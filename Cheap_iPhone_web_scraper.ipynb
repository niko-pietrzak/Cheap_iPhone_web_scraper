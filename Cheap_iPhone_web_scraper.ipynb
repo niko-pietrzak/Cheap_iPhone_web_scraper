{
 "cells": [
  {
   "cell_type": "code",
   "execution_count": 2,
   "metadata": {},
   "outputs": [],
   "source": [
    "import requests\n",
    "import bs4\n",
    "from urllib.request import urlopen\n",
    "import re"
   ]
  },
  {
   "cell_type": "code",
   "execution_count": 3,
   "metadata": {},
   "outputs": [],
   "source": [
    "res1 = requests.get('https://www.olx.pl/elektronika/telefony-komorkowe/iphone/?search%5Bfilter_enum_state%5D%5B0%5D=new&search%5Bpaidads_listing%5D=1')\n",
    "soup = bs4.BeautifulSoup(res1.text, 'lxml')\n"
   ]
  },
  {
   "cell_type": "code",
   "execution_count": 4,
   "metadata": {},
   "outputs": [],
   "source": [
    "page1 = soup.select('.title-cell')"
   ]
  },
  {
   "cell_type": "code",
   "execution_count": 5,
   "metadata": {},
   "outputs": [],
   "source": [
    "phones = []\n",
    "for phone in soup.select('.title-cell'):\n",
    "    phones.append(phone.text)\n",
    "    \n",
    "for n in range(len(phones)):\n",
    "    index = phones[n].find('IPHONE')\n",
    "    if (index == -1):\n",
    "        index = phones[n].find('Iphone')\n",
    "    if (index == -1):\n",
    "        index = phones[n].find('iphone')\n",
    "    if (index == -1):\n",
    "        index = phones[n].find('iPhone')\n",
    "    phones[n] = phones[n][index:index+20]"
   ]
  },
  {
   "cell_type": "code",
   "execution_count": 6,
   "metadata": {},
   "outputs": [],
   "source": [
    "page2 = soup.select('.price')\n",
    "devices = len(page2)"
   ]
  },
  {
   "cell_type": "code",
   "execution_count": 7,
   "metadata": {},
   "outputs": [],
   "source": [
    "phones_prices = []\n",
    "for n in range(devices-2):\n",
    "    phones_prices.append(page2[n+2].text)\n",
    "    \n",
    "for n in range(devices-2):\n",
    "    phones_prices[n] = phones_prices[n][1:6]\n",
    "    phones_prices[n] = phones_prices[n].replace(\" \", \"\")\n",
    "    if 'z' in phones_prices[n]:\n",
    "        phones_prices[n] = 0\n",
    "        continue\n",
    "    else:\n",
    "        phones_prices[n] = int(phones_prices[n])"
   ]
  },
  {
   "cell_type": "code",
   "execution_count": 8,
   "metadata": {},
   "outputs": [],
   "source": [
    "html_page = urlopen(\"https://www.olx.pl/elektronika/telefony-komorkowe/iphone/?search%5Bfilter_enum_state%5D%5B0%5D=new&search%5Bpaidads_listing%5D=1\")\n",
    "soup_urls = bs4.BeautifulSoup(html_page)\n",
    "links = []\n",
    "\n",
    "for link in soup_urls.findAll('a'):\n",
    "    links.append(link.get('href'))\n",
    "    \n",
    "links = links[35:152:3]"
   ]
  },
  {
   "cell_type": "code",
   "execution_count": 11,
   "metadata": {},
   "outputs": [
    {
     "name": "stdout",
     "output_type": "stream",
     "text": [
      "Iphone XS**64Gb GO\n",
      "2639\n",
      "https://www.olx.pl/oferta/jak-nowy-iphone-xs64gb-golduzywany-kilka-dni-CID99-IDHfalU.html#9066f522ed;promoted\n",
      "\n",
      "\n",
      "Iphone XS**64Gb GO\n",
      "2639\n",
      "https://www.olx.pl/oferta/jak-nowy-iphone-xs64gb-golduzywany-kilka-dni-CID99-IDHfalU.html#9066f522ed;promoted\n",
      "\n",
      "\n",
      "iPhone SE 2020 Cza\n",
      "1850\n",
      "https://www.olx.pl/oferta/iphone-se-2020-czarny-bialy-czerwony-64gb-128gb-zelazna-89-CID99-IDFXoQl.html#9066f522ed;promoted\n",
      "\n",
      "\n",
      "iPhone\n",
      "           \n",
      "1250\n",
      "https://www.olx.pl/oferta/iphone-7-rose-gold-32-gb-nowy-CID99-IDHQy2p.html#9066f522ed;promoted\n",
      "\n",
      "\n",
      "iPhone 12 mini Zak\n",
      "2999\n",
      "https://www.olx.pl/oferta/nowy-folia-iphone-12-mini-zakup-20-12-2020-CID99-IDHQxuf.html#9066f522ed;promoted\n",
      "\n",
      "\n",
      "IphoneX 64G + GRAT\n",
      "1650\n",
      "https://www.olx.pl/oferta/iphonex-64g-gratis-CID99-IDHPe0e.html#9066f522ed;promoted\n",
      "\n",
      "\n",
      "iPhone 11 pamiec 6\n",
      "2599\n",
      "https://www.olx.pl/oferta/bialy-nowy-iphone-11-pamiec-64gb-na-gwarancji-CID99-IDHNabX.html#9066f522ed;promoted\n",
      "\n",
      "\n",
      "iphone 11 64gb cza\n",
      "2550\n",
      "https://www.olx.pl/oferta/nowy-apple-iphone-11-64gb-czarny-CID99-IDHQue4.html#9066f522ed;promoted\n",
      "\n",
      "\n",
      "iPhone Xs 256GB sr\n",
      "2500\n",
      "https://www.olx.pl/oferta/iphone-xs-256gb-srebrny-w-folii-nowy-CID99-IDHQrkJ.html#9066f522ed;promoted\n",
      "\n",
      "\n",
      "iPhone\n",
      "           \n",
      "1550\n",
      "https://www.olx.pl/oferta/iphone-se-2020-64-gb-black-CID99-IDHQn90.html#9066f522ed;promoted\n",
      "\n",
      "\n",
      "iPhone 11 128GB Gr\n",
      "2600\n",
      "https://www.olx.pl/oferta/apple-iphone-11-128gb-green-zielony-etui-gratis-CID99-IDHOjrV.html#9066f522ed;promoted\n",
      "\n",
      "\n",
      "IPHONE 11 64GB Gre\n",
      "2650\n",
      "https://www.olx.pl/oferta/iphone-11-64gb-green-gsm-slowianska-CID99-IDF5Mud.html#9066f522ed;promoted\n",
      "\n",
      "\n",
      "IPHONE 11 64GB Bla\n",
      "2650\n",
      "https://www.olx.pl/oferta/iphone-11-64gb-black-gsm-slowianska-CID99-IDCgmE6.html#9066f522ed;promoted\n",
      "\n",
      "\n",
      "IPHONE 11 64GB Pur\n",
      "2750\n",
      "https://www.olx.pl/oferta/iphone-11-64gb-purple-gsm-slowianska-CID99-IDF7EKJ.html#9066f522ed;promoted\n",
      "\n",
      "\n",
      "IPHONE 11 64GB Red\n",
      "2650\n",
      "https://www.olx.pl/oferta/iphone-11-64gb-red-gsm-slowianska-CID99-IDEincT.html#9066f522ed;promoted\n",
      "\n",
      "\n",
      "IPHONE 11 64GB Whi\n",
      "2650\n",
      "https://www.olx.pl/oferta/iphone-11-64gb-white-gsm-slowianska-CID99-IDFotc3.html#9066f522ed;promoted\n",
      "\n",
      "\n"
     ]
    }
   ],
   "source": [
    "for n in range(3):\n",
    "    if (phones_prices[n] < 3000) and (phones_prices[n] != 0) and (phones[n] != 'iPhone'):\n",
    "        print(phones[n])\n",
    "        print(phones_prices[n])\n",
    "        print(links[n])\n",
    "        print(\"\\n\")\n",
    "    \n",
    "    \n",
    "for n in range(39):\n",
    "    if (phones_prices[n] < 3000) and (phones_prices[n] != 0) and (phones[n] != 'iPhone'):\n",
    "        print(phones[n])\n",
    "        print(phones_prices[n])\n",
    "        print(links[n])\n",
    "        print('\\n')\n",
    "    "
   ]
  },
  {
   "cell_type": "code",
   "execution_count": null,
   "metadata": {},
   "outputs": [],
   "source": []
  }
 ],
 "metadata": {
  "kernelspec": {
   "display_name": "Python 3",
   "language": "python",
   "name": "python3"
  },
  "language_info": {
   "codemirror_mode": {
    "name": "ipython",
    "version": 3
   },
   "file_extension": ".py",
   "mimetype": "text/x-python",
   "name": "python",
   "nbconvert_exporter": "python",
   "pygments_lexer": "ipython3",
   "version": "3.7.3"
  }
 },
 "nbformat": 4,
 "nbformat_minor": 4
}
